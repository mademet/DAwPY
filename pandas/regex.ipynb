{
  "nbformat": 4,
  "nbformat_minor": 0,
  "metadata": {
    "colab": {
      "name": "regex.ipynb",
      "provenance": [],
      "authorship_tag": "ABX9TyNsySF6V/nhMPbT9TlfkK+p",
      "include_colab_link": true
    },
    "kernelspec": {
      "name": "python3",
      "display_name": "Python 3"
    },
    "language_info": {
      "name": "python"
    }
  },
  "cells": [
    {
      "cell_type": "markdown",
      "metadata": {
        "id": "view-in-github",
        "colab_type": "text"
      },
      "source": [
        "<a href=\"https://colab.research.google.com/github/mademet/DAwPY/blob/main/pandas/regex.ipynb\" target=\"_parent\"><img src=\"https://colab.research.google.com/assets/colab-badge.svg\" alt=\"Open In Colab\"/></a>"
      ]
    },
    {
      "cell_type": "code",
      "metadata": {
        "id": "ZtKLMU3xdLBk"
      },
      "source": [
        "import numpy as np\n",
        "import pandas as pd\n",
        "import re"
      ],
      "execution_count": 1,
      "outputs": []
    },
    {
      "cell_type": "code",
      "metadata": {
        "id": "q8EzbmvWgRjr"
      },
      "source": [
        ""
      ],
      "execution_count": null,
      "outputs": []
    },
    {
      "cell_type": "markdown",
      "metadata": {
        "id": "aKeoWOCkgSMy"
      },
      "source": [
        "`\\d`                         Any numeric digit from `0` to `9`.\n",
        "`\\D`                         Matches any character which is not a decimal digit.\n",
        "                           This is the opposite of `\\d`.\n",
        "`\\w`                         Any letter, numeric digit, or the underscore\n",
        "                           character.  (Think of this as matching\n",
        "                           \"word\" characters.)\n",
        "`\\W`                         Any character that is not a letter,\n",
        "                           numeric digit, or the underscore character.\n",
        "`\\s`                         Any space, tab, or newline character.  (\n",
        "                           Think of this as matching white-space\n",
        "                           characters.)\n",
        "`\\S`                         Any character that is not a space, tab,\n",
        "                           or newline."
      ]
    },
    {
      "cell_type": "code",
      "metadata": {
        "id": "7obYdslte6wC"
      },
      "source": [
        "text = \"A78L41K\""
      ],
      "execution_count": 2,
      "outputs": []
    },
    {
      "cell_type": "code",
      "metadata": {
        "colab": {
          "base_uri": "https://localhost:8080/"
        },
        "id": "AB7J25Sne83N",
        "outputId": "def15684-e4fe-4518-83bf-7d302a478a7e"
      },
      "source": [
        "num = re.search(\"\\d\", text)\n",
        "num"
      ],
      "execution_count": 4,
      "outputs": [
        {
          "output_type": "execute_result",
          "data": {
            "text/plain": [
              "<re.Match object; span=(1, 2), match='7'>"
            ]
          },
          "metadata": {},
          "execution_count": 4
        }
      ]
    },
    {
      "cell_type": "code",
      "metadata": {
        "colab": {
          "base_uri": "https://localhost:8080/",
          "height": 35
        },
        "id": "t4_A-JYUe9An",
        "outputId": "03a0edb0-1196-4675-a1b0-ad34c5f2a16d"
      },
      "source": [
        "num.group()"
      ],
      "execution_count": 6,
      "outputs": [
        {
          "output_type": "execute_result",
          "data": {
            "application/vnd.google.colaboratory.intrinsic+json": {
              "type": "string"
            },
            "text/plain": [
              "'7'"
            ]
          },
          "metadata": {},
          "execution_count": 6
        }
      ]
    },
    {
      "cell_type": "code",
      "metadata": {
        "colab": {
          "base_uri": "https://localhost:8080/"
        },
        "id": "g4Ua1HTle9I5",
        "outputId": "9a6867b6-ac7f-4f2e-e032-d278ff629209"
      },
      "source": [
        "num = re.search(\"\\d\\d\", text)\n",
        "num"
      ],
      "execution_count": 7,
      "outputs": [
        {
          "output_type": "execute_result",
          "data": {
            "text/plain": [
              "<re.Match object; span=(1, 3), match='78'>"
            ]
          },
          "metadata": {},
          "execution_count": 7
        }
      ]
    },
    {
      "cell_type": "code",
      "metadata": {
        "colab": {
          "base_uri": "https://localhost:8080/",
          "height": 35
        },
        "id": "_bhmroxbe9Qv",
        "outputId": "91ae297a-85d4-41c0-b355-b0e7623532d9"
      },
      "source": [
        "num.group()"
      ],
      "execution_count": 8,
      "outputs": [
        {
          "output_type": "execute_result",
          "data": {
            "application/vnd.google.colaboratory.intrinsic+json": {
              "type": "string"
            },
            "text/plain": [
              "'78'"
            ]
          },
          "metadata": {},
          "execution_count": 8
        }
      ]
    },
    {
      "cell_type": "code",
      "metadata": {
        "id": "Hi0tA7TYe9Yv"
      },
      "source": [
        "text = \"8PM19MIN\""
      ],
      "execution_count": 9,
      "outputs": []
    },
    {
      "cell_type": "code",
      "metadata": {
        "colab": {
          "base_uri": "https://localhost:8080/"
        },
        "id": "-Fk_ljlue9f_",
        "outputId": "c764f015-86a9-4dea-f400-4106ce350c42"
      },
      "source": [
        "nondigi = re.search(\"\\D\", text)\n",
        "print(nondigi.group())"
      ],
      "execution_count": 12,
      "outputs": [
        {
          "output_type": "stream",
          "name": "stdout",
          "text": [
            "P\n"
          ]
        }
      ]
    },
    {
      "cell_type": "code",
      "metadata": {
        "id": "p3dBUJYSe9nK"
      },
      "source": [
        "text = 'My phone number is 5556667777'"
      ],
      "execution_count": 13,
      "outputs": []
    },
    {
      "cell_type": "code",
      "metadata": {
        "colab": {
          "base_uri": "https://localhost:8080/"
        },
        "id": "d3fBwYQIg-_I",
        "outputId": "ae628a41-3411-4bec-b865-c6e7689226a7"
      },
      "source": [
        "telno = re.search((\"\\d\"*10), text)\n",
        "print(telno.group())"
      ],
      "execution_count": 20,
      "outputs": [
        {
          "output_type": "stream",
          "name": "stdout",
          "text": [
            "5556667777\n"
          ]
        }
      ]
    },
    {
      "cell_type": "code",
      "metadata": {
        "colab": {
          "base_uri": "https://localhost:8080/",
          "height": 35
        },
        "id": "Ifh6i_w5herj",
        "outputId": "1236035a-ca93-445f-b6d0-62c21c9d176a"
      },
      "source": [
        "\"a\"*3"
      ],
      "execution_count": 17,
      "outputs": [
        {
          "output_type": "execute_result",
          "data": {
            "application/vnd.google.colaboratory.intrinsic+json": {
              "type": "string"
            },
            "text/plain": [
              "'aaa'"
            ]
          },
          "metadata": {},
          "execution_count": 17
        }
      ]
    },
    {
      "cell_type": "code",
      "metadata": {
        "id": "g2HMSXruh8dW"
      },
      "source": [
        "text = 'My phone number is 415-555-1212'"
      ],
      "execution_count": 21,
      "outputs": []
    },
    {
      "cell_type": "code",
      "metadata": {
        "colab": {
          "base_uri": "https://localhost:8080/"
        },
        "id": "tqQ74ofjh_c3",
        "outputId": "c6e6396d-cd21-4c9f-8e24-0c30bfb24bd0"
      },
      "source": [
        "telno = re.search(\"\\d\"*3 + \"-\" + \"\\d\"*3 + \"-\" + \"\\d\"*4, text)\n",
        "print(telno.group())"
      ],
      "execution_count": 27,
      "outputs": [
        {
          "output_type": "stream",
          "name": "stdout",
          "text": [
            "415-555-1212\n"
          ]
        }
      ]
    },
    {
      "cell_type": "code",
      "metadata": {
        "colab": {
          "base_uri": "https://localhost:8080/"
        },
        "id": "raeZx99Ph_km",
        "outputId": "b34074da-6bc4-4a73-fc06-cd6f29f54810"
      },
      "source": [
        "telno2 = re.search(\"(\\d\\d\\d)-(\\d\\d\\d-\\d\\d\\d\\d)\", text)\n",
        "print(telno2.group(1))\n",
        "print(telno2.group(2))"
      ],
      "execution_count": 31,
      "outputs": [
        {
          "output_type": "stream",
          "name": "stdout",
          "text": [
            "415\n",
            "555-1212\n"
          ]
        }
      ]
    },
    {
      "cell_type": "code",
      "metadata": {
        "id": "7pUjaZYzh_q2"
      },
      "source": [
        "value = \"O 1, t 10, o 100. 100000\""
      ],
      "execution_count": 32,
      "outputs": []
    },
    {
      "cell_type": "code",
      "metadata": {
        "colab": {
          "base_uri": "https://localhost:8080/"
        },
        "id": "F7QzmDVLmj12",
        "outputId": "9874825d-dd6a-4e3c-ca9b-a4d2fd3424e1"
      },
      "source": [
        "output = re.findall(\"\\d{1,6}\", value)\n",
        "output"
      ],
      "execution_count": 33,
      "outputs": [
        {
          "output_type": "execute_result",
          "data": {
            "text/plain": [
              "['1', '10', '100', '100000']"
            ]
          },
          "metadata": {},
          "execution_count": 33
        }
      ]
    },
    {
      "cell_type": "code",
      "metadata": {
        "id": "EOTk7rkeh_vu"
      },
      "source": [
        "phone = \"2004-959-559 # This is Phone Number\""
      ],
      "execution_count": 34,
      "outputs": []
    },
    {
      "cell_type": "code",
      "metadata": {
        "colab": {
          "base_uri": "https://localhost:8080/",
          "height": 35
        },
        "id": "9F9_r7XCm2_v",
        "outputId": "3b64360c-416d-4f3f-84a1-f89032f69678"
      },
      "source": [
        "output = re.sub(\"\\D\", \"\", phone)\n",
        "output"
      ],
      "execution_count": 35,
      "outputs": [
        {
          "output_type": "execute_result",
          "data": {
            "application/vnd.google.colaboratory.intrinsic+json": {
              "type": "string"
            },
            "text/plain": [
              "'2004959559'"
            ]
          },
          "metadata": {},
          "execution_count": 35
        }
      ]
    },
    {
      "cell_type": "code",
      "metadata": {
        "id": "de9_CSBAm3KO"
      },
      "source": [
        ""
      ],
      "execution_count": null,
      "outputs": []
    },
    {
      "cell_type": "markdown",
      "metadata": {
        "id": "qEEUyleuoliV"
      },
      "source": [
        "``\"[]\"``\t  A set of characters\t``\"[a-m]\"``\n",
        "``\"\\\"``\t      Signals a special sequence (can also be used to escape special characters)\n",
        "``\".\"``\t      Any character (except newline character)\n",
        "``\"^\"``\t      Starts with\t``\"^hello\"``\n",
        "``\"$\"``\t      Ends with\t``\"world$\"``\n",
        "``\"*\"``\t      Zero or more occurrences\n",
        "`\"+\"`\t      One or more occurrences\n",
        "`\"{}\"`\t  Exactly the specified number of occurrences\n",
        "`\"|\"`\t      Either or\t`\"falls|stays\"`\n",
        "`\"()\"`\t  Capture and group"
      ]
    },
    {
      "cell_type": "code",
      "metadata": {
        "id": "6AFwKJMmm3Q2"
      },
      "source": [
        "txt = \"1 person against 100 people\""
      ],
      "execution_count": 36,
      "outputs": []
    },
    {
      "cell_type": "code",
      "metadata": {
        "colab": {
          "base_uri": "https://localhost:8080/"
        },
        "id": "NxrRqfB7orPx",
        "outputId": "d99b722c-d0d4-45fa-eec5-6dfa398da36f"
      },
      "source": [
        "output = re.findall(\"\\d+\", txt)\n",
        "output"
      ],
      "execution_count": 37,
      "outputs": [
        {
          "output_type": "execute_result",
          "data": {
            "text/plain": [
              "['1', '100']"
            ]
          },
          "metadata": {},
          "execution_count": 37
        }
      ]
    },
    {
      "cell_type": "code",
      "metadata": {
        "colab": {
          "base_uri": "https://localhost:8080/"
        },
        "id": "7QDCgAQnm3We",
        "outputId": "6cd5ab74-6696-4322-cefa-4a6bc6672f48"
      },
      "source": [
        "output = re.findall(\"person\", txt)\n",
        "output"
      ],
      "execution_count": 38,
      "outputs": [
        {
          "output_type": "execute_result",
          "data": {
            "text/plain": [
              "['person']"
            ]
          },
          "metadata": {},
          "execution_count": 38
        }
      ]
    },
    {
      "cell_type": "code",
      "metadata": {
        "id": "Hij-GBNGm3cL"
      },
      "source": [
        "txt = \"Hello World\""
      ],
      "execution_count": 41,
      "outputs": []
    },
    {
      "cell_type": "code",
      "metadata": {
        "colab": {
          "base_uri": "https://localhost:8080/"
        },
        "id": "pw83eu4mpPvv",
        "outputId": "269b0bdb-e6f1-445f-ced0-d41726dc49e8"
      },
      "source": [
        "output=re.findall(\"World$\", txt)\n",
        "output"
      ],
      "execution_count": 43,
      "outputs": [
        {
          "output_type": "execute_result",
          "data": {
            "text/plain": [
              "['World']"
            ]
          },
          "metadata": {},
          "execution_count": 43
        }
      ]
    },
    {
      "cell_type": "code",
      "metadata": {
        "colab": {
          "base_uri": "https://localhost:8080/"
        },
        "id": "A8G36XY0pi4x",
        "outputId": "fd83f36c-d2f3-40e4-d3e4-48971f3998c7"
      },
      "source": [
        "output=re.findall(\"^Hello\", txt)\n",
        "output"
      ],
      "execution_count": 44,
      "outputs": [
        {
          "output_type": "execute_result",
          "data": {
            "text/plain": [
              "['Hello']"
            ]
          },
          "metadata": {},
          "execution_count": 44
        }
      ]
    },
    {
      "cell_type": "code",
      "metadata": {
        "id": "pb0fXxbeh_0P"
      },
      "source": [
        "s = pd.Series([\"a3\", \"b4\", \"c5\", \"d\"])"
      ],
      "execution_count": 45,
      "outputs": []
    },
    {
      "cell_type": "code",
      "metadata": {
        "colab": {
          "base_uri": "https://localhost:8080/",
          "height": 292
        },
        "id": "mzN0vDexp1VC",
        "outputId": "c5170e9a-3f7f-4e6e-ada9-8b9aa6b72a1f"
      },
      "source": [
        "s.contains(\"(\\d)\")"
      ],
      "execution_count": 46,
      "outputs": [
        {
          "output_type": "error",
          "ename": "AttributeError",
          "evalue": "ignored",
          "traceback": [
            "\u001b[0;31m---------------------------------------------------------------------------\u001b[0m",
            "\u001b[0;31mAttributeError\u001b[0m                            Traceback (most recent call last)",
            "\u001b[0;32m<ipython-input-46-67f23a15f952>\u001b[0m in \u001b[0;36m<module>\u001b[0;34m()\u001b[0m\n\u001b[0;32m----> 1\u001b[0;31m \u001b[0ms\u001b[0m\u001b[0;34m.\u001b[0m\u001b[0mcontains\u001b[0m\u001b[0;34m(\u001b[0m\u001b[0;34m\"(\\d)\"\u001b[0m\u001b[0;34m)\u001b[0m\u001b[0;34m\u001b[0m\u001b[0;34m\u001b[0m\u001b[0m\n\u001b[0m",
            "\u001b[0;32m/usr/local/lib/python3.7/dist-packages/pandas/core/generic.py\u001b[0m in \u001b[0;36m__getattr__\u001b[0;34m(self, name)\u001b[0m\n\u001b[1;32m   5139\u001b[0m             \u001b[0;32mif\u001b[0m \u001b[0mself\u001b[0m\u001b[0;34m.\u001b[0m\u001b[0m_info_axis\u001b[0m\u001b[0;34m.\u001b[0m\u001b[0m_can_hold_identifiers_and_holds_name\u001b[0m\u001b[0;34m(\u001b[0m\u001b[0mname\u001b[0m\u001b[0;34m)\u001b[0m\u001b[0;34m:\u001b[0m\u001b[0;34m\u001b[0m\u001b[0;34m\u001b[0m\u001b[0m\n\u001b[1;32m   5140\u001b[0m                 \u001b[0;32mreturn\u001b[0m \u001b[0mself\u001b[0m\u001b[0;34m[\u001b[0m\u001b[0mname\u001b[0m\u001b[0;34m]\u001b[0m\u001b[0;34m\u001b[0m\u001b[0;34m\u001b[0m\u001b[0m\n\u001b[0;32m-> 5141\u001b[0;31m             \u001b[0;32mreturn\u001b[0m \u001b[0mobject\u001b[0m\u001b[0;34m.\u001b[0m\u001b[0m__getattribute__\u001b[0m\u001b[0;34m(\u001b[0m\u001b[0mself\u001b[0m\u001b[0;34m,\u001b[0m \u001b[0mname\u001b[0m\u001b[0;34m)\u001b[0m\u001b[0;34m\u001b[0m\u001b[0;34m\u001b[0m\u001b[0m\n\u001b[0m\u001b[1;32m   5142\u001b[0m \u001b[0;34m\u001b[0m\u001b[0m\n\u001b[1;32m   5143\u001b[0m     \u001b[0;32mdef\u001b[0m \u001b[0m__setattr__\u001b[0m\u001b[0;34m(\u001b[0m\u001b[0mself\u001b[0m\u001b[0;34m,\u001b[0m \u001b[0mname\u001b[0m\u001b[0;34m:\u001b[0m \u001b[0mstr\u001b[0m\u001b[0;34m,\u001b[0m \u001b[0mvalue\u001b[0m\u001b[0;34m)\u001b[0m \u001b[0;34m->\u001b[0m \u001b[0;32mNone\u001b[0m\u001b[0;34m:\u001b[0m\u001b[0;34m\u001b[0m\u001b[0;34m\u001b[0m\u001b[0m\n",
            "\u001b[0;31mAttributeError\u001b[0m: 'Series' object has no attribute 'contains'"
          ]
        }
      ]
    },
    {
      "cell_type": "code",
      "metadata": {
        "id": "I_-CmdbUrL8m"
      },
      "source": [
        "s= pd.Series(['40 l/100 km (comb)',\n",
        "        '38 l/100 km (comb)', '6.4 l/100 km (comb)',\n",
        "       '8.3 kg/100 km (comb)', '5.1 kg/100 km (comb)',\n",
        "       '5.4 l/100 km (comb)', '6.7 l/100 km (comb)',\n",
        "       '6.2 l/100 km (comb)', '7.3 l/100 km (comb)',\n",
        "       '6.3 l/100 km (comb)', '5.7 l/100 km (comb)',\n",
        "       '6.1 l/100 km (comb)', '6.8 l/100 km (comb)',\n",
        "       '7.5 l/100 km (comb)', '7.4 l/100 km (comb)',\n",
        "       '3.6 kg/100 km (comb)', '0 l/100 km (comb)',\n",
        "       '7.8 l/100 km (comb)'])"
      ],
      "execution_count": 64,
      "outputs": []
    },
    {
      "cell_type": "code",
      "metadata": {
        "colab": {
          "base_uri": "https://localhost:8080/"
        },
        "id": "NyiN6sVNrN2l",
        "outputId": "2196aa74-2518-40eb-8965-198bbdee19f6"
      },
      "source": [
        "s"
      ],
      "execution_count": 65,
      "outputs": [
        {
          "output_type": "execute_result",
          "data": {
            "text/plain": [
              "0       40 l/100 km (comb)\n",
              "1       38 l/100 km (comb)\n",
              "2      6.4 l/100 km (comb)\n",
              "3     8.3 kg/100 km (comb)\n",
              "4     5.1 kg/100 km (comb)\n",
              "5      5.4 l/100 km (comb)\n",
              "6      6.7 l/100 km (comb)\n",
              "7      6.2 l/100 km (comb)\n",
              "8      7.3 l/100 km (comb)\n",
              "9      6.3 l/100 km (comb)\n",
              "10     5.7 l/100 km (comb)\n",
              "11     6.1 l/100 km (comb)\n",
              "12     6.8 l/100 km (comb)\n",
              "13     7.5 l/100 km (comb)\n",
              "14     7.4 l/100 km (comb)\n",
              "15    3.6 kg/100 km (comb)\n",
              "16       0 l/100 km (comb)\n",
              "17     7.8 l/100 km (comb)\n",
              "dtype: object"
            ]
          },
          "metadata": {},
          "execution_count": 65
        }
      ]
    },
    {
      "cell_type": "code",
      "metadata": {
        "colab": {
          "base_uri": "https://localhost:8080/",
          "height": 601
        },
        "id": "_3MrQYJZrN8t",
        "outputId": "36ee5954-2ef1-436e-c09c-433dff164114"
      },
      "source": [
        "s.str.extract('(\\d\\d|\\d.\\d|\\d).+(\\d\\d\\d)')"
      ],
      "execution_count": 54,
      "outputs": [
        {
          "output_type": "execute_result",
          "data": {
            "text/html": [
              "<div>\n",
              "<style scoped>\n",
              "    .dataframe tbody tr th:only-of-type {\n",
              "        vertical-align: middle;\n",
              "    }\n",
              "\n",
              "    .dataframe tbody tr th {\n",
              "        vertical-align: top;\n",
              "    }\n",
              "\n",
              "    .dataframe thead th {\n",
              "        text-align: right;\n",
              "    }\n",
              "</style>\n",
              "<table border=\"1\" class=\"dataframe\">\n",
              "  <thead>\n",
              "    <tr style=\"text-align: right;\">\n",
              "      <th></th>\n",
              "      <th>0</th>\n",
              "      <th>1</th>\n",
              "    </tr>\n",
              "  </thead>\n",
              "  <tbody>\n",
              "    <tr>\n",
              "      <th>0</th>\n",
              "      <td>40</td>\n",
              "      <td>100</td>\n",
              "    </tr>\n",
              "    <tr>\n",
              "      <th>1</th>\n",
              "      <td>38</td>\n",
              "      <td>100</td>\n",
              "    </tr>\n",
              "    <tr>\n",
              "      <th>2</th>\n",
              "      <td>6.4</td>\n",
              "      <td>100</td>\n",
              "    </tr>\n",
              "    <tr>\n",
              "      <th>3</th>\n",
              "      <td>8.3</td>\n",
              "      <td>100</td>\n",
              "    </tr>\n",
              "    <tr>\n",
              "      <th>4</th>\n",
              "      <td>5.1</td>\n",
              "      <td>100</td>\n",
              "    </tr>\n",
              "    <tr>\n",
              "      <th>5</th>\n",
              "      <td>5.4</td>\n",
              "      <td>100</td>\n",
              "    </tr>\n",
              "    <tr>\n",
              "      <th>6</th>\n",
              "      <td>6.7</td>\n",
              "      <td>100</td>\n",
              "    </tr>\n",
              "    <tr>\n",
              "      <th>7</th>\n",
              "      <td>6.2</td>\n",
              "      <td>100</td>\n",
              "    </tr>\n",
              "    <tr>\n",
              "      <th>8</th>\n",
              "      <td>7.3</td>\n",
              "      <td>100</td>\n",
              "    </tr>\n",
              "    <tr>\n",
              "      <th>9</th>\n",
              "      <td>6.3</td>\n",
              "      <td>100</td>\n",
              "    </tr>\n",
              "    <tr>\n",
              "      <th>10</th>\n",
              "      <td>5.7</td>\n",
              "      <td>100</td>\n",
              "    </tr>\n",
              "    <tr>\n",
              "      <th>11</th>\n",
              "      <td>6.1</td>\n",
              "      <td>100</td>\n",
              "    </tr>\n",
              "    <tr>\n",
              "      <th>12</th>\n",
              "      <td>6.8</td>\n",
              "      <td>100</td>\n",
              "    </tr>\n",
              "    <tr>\n",
              "      <th>13</th>\n",
              "      <td>7.5</td>\n",
              "      <td>100</td>\n",
              "    </tr>\n",
              "    <tr>\n",
              "      <th>14</th>\n",
              "      <td>7.4</td>\n",
              "      <td>100</td>\n",
              "    </tr>\n",
              "    <tr>\n",
              "      <th>15</th>\n",
              "      <td>3.6</td>\n",
              "      <td>100</td>\n",
              "    </tr>\n",
              "    <tr>\n",
              "      <th>16</th>\n",
              "      <td>0</td>\n",
              "      <td>100</td>\n",
              "    </tr>\n",
              "    <tr>\n",
              "      <th>17</th>\n",
              "      <td>7.8</td>\n",
              "      <td>100</td>\n",
              "    </tr>\n",
              "  </tbody>\n",
              "</table>\n",
              "</div>"
            ],
            "text/plain": [
              "      0    1\n",
              "0    40  100\n",
              "1    38  100\n",
              "2   6.4  100\n",
              "3   8.3  100\n",
              "4   5.1  100\n",
              "5   5.4  100\n",
              "6   6.7  100\n",
              "7   6.2  100\n",
              "8   7.3  100\n",
              "9   6.3  100\n",
              "10  5.7  100\n",
              "11  6.1  100\n",
              "12  6.8  100\n",
              "13  7.5  100\n",
              "14  7.4  100\n",
              "15  3.6  100\n",
              "16    0  100\n",
              "17  7.8  100"
            ]
          },
          "metadata": {},
          "execution_count": 54
        }
      ]
    },
    {
      "cell_type": "code",
      "metadata": {
        "id": "VldOkmGDwmRB"
      },
      "source": [
        ""
      ],
      "execution_count": 68,
      "outputs": []
    },
    {
      "cell_type": "code",
      "metadata": {
        "id": "exYE5vFzrOC9"
      },
      "source": [
        "s = pd.Series(['06/2020\\n\\n4.9 l/100 km (comb)',\n",
        "'11/2020\\n\\n166 g CO2/km (comb)',\n",
        "'10/2019\\n\\n5.3 l/100 km (comb)',\n",
        "'05/2022\\n\\n6.3 l/100 km (comb)',\n",
        "'07/2019\\n\\n128 g CO2/km (comb)',\n",
        "'06/2022\\n\\n112 g CO2/km (comb)',\n",
        "'01/2022\\n\\n5.8 l/100 km (comb)',\n",
        "'11/2020\\n\\n106 g CO2/km (comb)',\n",
        "'04/2019\\n\\n105 g CO2/km (comb)',\n",
        "'08/2020\\n\\n133 g CO2/km (comb)',\n",
        "'04/2022\\n\\n133 g CO2/km (comb)'])"
      ],
      "execution_count": 69,
      "outputs": []
    },
    {
      "cell_type": "code",
      "metadata": {
        "colab": {
          "base_uri": "https://localhost:8080/"
        },
        "id": "pZfzmuWvrOIc",
        "outputId": "50d3b185-57b3-4752-ea0d-7e4f611b23ba"
      },
      "source": [
        "s"
      ],
      "execution_count": 70,
      "outputs": [
        {
          "output_type": "execute_result",
          "data": {
            "text/plain": [
              "0     06/2020\\n\\n4.9 l/100 km (comb)\n",
              "1     11/2020\\n\\n166 g CO2/km (comb)\n",
              "2     10/2019\\n\\n5.3 l/100 km (comb)\n",
              "3     05/2022\\n\\n6.3 l/100 km (comb)\n",
              "4     07/2019\\n\\n128 g CO2/km (comb)\n",
              "5     06/2022\\n\\n112 g CO2/km (comb)\n",
              "6     01/2022\\n\\n5.8 l/100 km (comb)\n",
              "7     11/2020\\n\\n106 g CO2/km (comb)\n",
              "8     04/2019\\n\\n105 g CO2/km (comb)\n",
              "9     08/2020\\n\\n133 g CO2/km (comb)\n",
              "10    04/2022\\n\\n133 g CO2/km (comb)\n",
              "dtype: object"
            ]
          },
          "metadata": {},
          "execution_count": 70
        }
      ]
    },
    {
      "cell_type": "code",
      "metadata": {
        "colab": {
          "base_uri": "https://localhost:8080/",
          "height": 385
        },
        "id": "IqoRrlRcrON3",
        "outputId": "18659b64-eda2-41d9-f8d9-863e1118e514"
      },
      "source": [
        "result=s.str.extract('(\\d{2}).(\\d{4})')\n",
        "result"
      ],
      "execution_count": 71,
      "outputs": [
        {
          "output_type": "execute_result",
          "data": {
            "text/html": [
              "<div>\n",
              "<style scoped>\n",
              "    .dataframe tbody tr th:only-of-type {\n",
              "        vertical-align: middle;\n",
              "    }\n",
              "\n",
              "    .dataframe tbody tr th {\n",
              "        vertical-align: top;\n",
              "    }\n",
              "\n",
              "    .dataframe thead th {\n",
              "        text-align: right;\n",
              "    }\n",
              "</style>\n",
              "<table border=\"1\" class=\"dataframe\">\n",
              "  <thead>\n",
              "    <tr style=\"text-align: right;\">\n",
              "      <th></th>\n",
              "      <th>0</th>\n",
              "      <th>1</th>\n",
              "    </tr>\n",
              "  </thead>\n",
              "  <tbody>\n",
              "    <tr>\n",
              "      <th>0</th>\n",
              "      <td>06</td>\n",
              "      <td>2020</td>\n",
              "    </tr>\n",
              "    <tr>\n",
              "      <th>1</th>\n",
              "      <td>11</td>\n",
              "      <td>2020</td>\n",
              "    </tr>\n",
              "    <tr>\n",
              "      <th>2</th>\n",
              "      <td>10</td>\n",
              "      <td>2019</td>\n",
              "    </tr>\n",
              "    <tr>\n",
              "      <th>3</th>\n",
              "      <td>05</td>\n",
              "      <td>2022</td>\n",
              "    </tr>\n",
              "    <tr>\n",
              "      <th>4</th>\n",
              "      <td>07</td>\n",
              "      <td>2019</td>\n",
              "    </tr>\n",
              "    <tr>\n",
              "      <th>5</th>\n",
              "      <td>06</td>\n",
              "      <td>2022</td>\n",
              "    </tr>\n",
              "    <tr>\n",
              "      <th>6</th>\n",
              "      <td>01</td>\n",
              "      <td>2022</td>\n",
              "    </tr>\n",
              "    <tr>\n",
              "      <th>7</th>\n",
              "      <td>11</td>\n",
              "      <td>2020</td>\n",
              "    </tr>\n",
              "    <tr>\n",
              "      <th>8</th>\n",
              "      <td>04</td>\n",
              "      <td>2019</td>\n",
              "    </tr>\n",
              "    <tr>\n",
              "      <th>9</th>\n",
              "      <td>08</td>\n",
              "      <td>2020</td>\n",
              "    </tr>\n",
              "    <tr>\n",
              "      <th>10</th>\n",
              "      <td>04</td>\n",
              "      <td>2022</td>\n",
              "    </tr>\n",
              "  </tbody>\n",
              "</table>\n",
              "</div>"
            ],
            "text/plain": [
              "     0     1\n",
              "0   06  2020\n",
              "1   11  2020\n",
              "2   10  2019\n",
              "3   05  2022\n",
              "4   07  2019\n",
              "5   06  2022\n",
              "6   01  2022\n",
              "7   11  2020\n",
              "8   04  2019\n",
              "9   08  2020\n",
              "10  04  2022"
            ]
          },
          "metadata": {},
          "execution_count": 71
        }
      ]
    }
  ]
}