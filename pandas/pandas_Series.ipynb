{
  "nbformat": 4,
  "nbformat_minor": 0,
  "metadata": {
    "colab": {
      "name": "pandas_Series.ipynb",
      "provenance": [],
      "collapsed_sections": [],
      "authorship_tag": "ABX9TyMRdiv84lVtIbbk/VZmVJGb",
      "include_colab_link": true
    },
    "kernelspec": {
      "name": "python3",
      "display_name": "Python 3"
    },
    "language_info": {
      "name": "python"
    }
  },
  "cells": [
    {
      "cell_type": "markdown",
      "metadata": {
        "id": "view-in-github",
        "colab_type": "text"
      },
      "source": [
        "<a href=\"https://colab.research.google.com/github/mademet/DAwPY/blob/main/pandas/pandas_Series.ipynb\" target=\"_parent\"><img src=\"https://colab.research.google.com/assets/colab-badge.svg\" alt=\"Open In Colab\"/></a>"
      ]
    },
    {
      "cell_type": "code",
      "metadata": {
        "id": "sSEwq-U2eN5c"
      },
      "source": [
        "import numpy as np\n",
        "import pandas as pd\n",
        "import matplotlib.pyplot as plt\n",
        "import seaborn as sns\n",
        "%matplotlib inline"
      ],
      "execution_count": 1,
      "outputs": []
    },
    {
      "cell_type": "code",
      "metadata": {
        "colab": {
          "base_uri": "https://localhost:8080/"
        },
        "id": "YCkeKXRzeS9D",
        "outputId": "d31e8f6f-35ea-4240-c610-7510bc4d6d10"
      },
      "source": [
        "serr = pd.Series([11,12, 13, 14, 15])\n",
        "serr"
      ],
      "execution_count": 3,
      "outputs": [
        {
          "output_type": "execute_result",
          "data": {
            "text/plain": [
              "0    11\n",
              "1    12\n",
              "2    13\n",
              "3    14\n",
              "4    15\n",
              "dtype: int64"
            ]
          },
          "metadata": {},
          "execution_count": 3
        }
      ]
    },
    {
      "cell_type": "code",
      "metadata": {
        "colab": {
          "base_uri": "https://localhost:8080/"
        },
        "id": "_nz1Hc8Bejbr",
        "outputId": "c29409ac-e74d-4732-b3d5-896e97478a6c"
      },
      "source": [
        "serr.size"
      ],
      "execution_count": 4,
      "outputs": [
        {
          "output_type": "execute_result",
          "data": {
            "text/plain": [
              "5"
            ]
          },
          "metadata": {},
          "execution_count": 4
        }
      ]
    },
    {
      "cell_type": "code",
      "metadata": {
        "colab": {
          "base_uri": "https://localhost:8080/"
        },
        "id": "9l41ZfP-euFT",
        "outputId": "e1d8541f-6dc1-4a22-cfd4-02fb56f95aa4"
      },
      "source": [
        "serr.shape"
      ],
      "execution_count": 5,
      "outputs": [
        {
          "output_type": "execute_result",
          "data": {
            "text/plain": [
              "(5,)"
            ]
          },
          "metadata": {},
          "execution_count": 5
        }
      ]
    },
    {
      "cell_type": "code",
      "metadata": {
        "colab": {
          "base_uri": "https://localhost:8080/"
        },
        "id": "pvE1hIQqe0Mz",
        "outputId": "ae37ae68-0a5b-456f-cc96-4486959d42d2"
      },
      "source": [
        "serr.ndim"
      ],
      "execution_count": 6,
      "outputs": [
        {
          "output_type": "execute_result",
          "data": {
            "text/plain": [
              "1"
            ]
          },
          "metadata": {},
          "execution_count": 6
        }
      ]
    },
    {
      "cell_type": "code",
      "metadata": {
        "colab": {
          "base_uri": "https://localhost:8080/"
        },
        "id": "gZdfhA1MfNkr",
        "outputId": "dcf1df9e-32d9-4f6a-c39b-db2daefadf1b"
      },
      "source": [
        "serr2 = pd.Series([11,21,13,41,15,61,11,21,13,41,15,61,11,21,13,41,15,61])\n",
        "serr2"
      ],
      "execution_count": 7,
      "outputs": [
        {
          "output_type": "execute_result",
          "data": {
            "text/plain": [
              "0     11\n",
              "1     21\n",
              "2     13\n",
              "3     41\n",
              "4     15\n",
              "5     61\n",
              "6     11\n",
              "7     21\n",
              "8     13\n",
              "9     41\n",
              "10    15\n",
              "11    61\n",
              "12    11\n",
              "13    21\n",
              "14    13\n",
              "15    41\n",
              "16    15\n",
              "17    61\n",
              "dtype: int64"
            ]
          },
          "metadata": {},
          "execution_count": 7
        }
      ]
    },
    {
      "cell_type": "code",
      "metadata": {
        "colab": {
          "base_uri": "https://localhost:8080/"
        },
        "id": "5lOJCXVIfO4n",
        "outputId": "bbf3565f-8e81-4b7e-af46-bf7e697a6737"
      },
      "source": [
        "serr2.head()"
      ],
      "execution_count": 9,
      "outputs": [
        {
          "output_type": "execute_result",
          "data": {
            "text/plain": [
              "0    11\n",
              "1    21\n",
              "2    13\n",
              "3    41\n",
              "4    15\n",
              "dtype: int64"
            ]
          },
          "metadata": {},
          "execution_count": 9
        }
      ]
    },
    {
      "cell_type": "code",
      "metadata": {
        "colab": {
          "base_uri": "https://localhost:8080/"
        },
        "id": "QawOzQ9nfUpt",
        "outputId": "0d0e1a1d-5bc6-4893-ac7c-639ef9e644a2"
      },
      "source": [
        "serr2.tail()"
      ],
      "execution_count": 10,
      "outputs": [
        {
          "output_type": "execute_result",
          "data": {
            "text/plain": [
              "13    21\n",
              "14    13\n",
              "15    41\n",
              "16    15\n",
              "17    61\n",
              "dtype: int64"
            ]
          },
          "metadata": {},
          "execution_count": 10
        }
      ]
    },
    {
      "cell_type": "code",
      "metadata": {
        "colab": {
          "base_uri": "https://localhost:8080/"
        },
        "id": "xLnxXZrYfXuU",
        "outputId": "3b76f2c7-9abd-4cf7-b3ee-60c67674ab06"
      },
      "source": [
        "data = [\"paris\", \"london\", \"ankara\"]\n",
        "ind = [\"x\", \"y\", \"z\"]\n",
        "\n",
        "pd.Series(data, ind)"
      ],
      "execution_count": 11,
      "outputs": [
        {
          "output_type": "execute_result",
          "data": {
            "text/plain": [
              "x     paris\n",
              "y    london\n",
              "z    ankara\n",
              "dtype: object"
            ]
          },
          "metadata": {},
          "execution_count": 11
        }
      ]
    },
    {
      "cell_type": "code",
      "metadata": {
        "colab": {
          "base_uri": "https://localhost:8080/"
        },
        "id": "TQEas3TJhftD",
        "outputId": "b6bc29ad-451f-4ab4-f9b4-80dbe1881248"
      },
      "source": [
        "d = {\"D\":10, \"E\":20, \"F\":1.1}\n",
        "\n",
        "pd.Series(d)"
      ],
      "execution_count": 13,
      "outputs": [
        {
          "output_type": "execute_result",
          "data": {
            "text/plain": [
              "D    10.0\n",
              "E    20.0\n",
              "F     1.1\n",
              "dtype: float64"
            ]
          },
          "metadata": {},
          "execution_count": 13
        }
      ]
    },
    {
      "cell_type": "code",
      "metadata": {
        "colab": {
          "base_uri": "https://localhost:8080/"
        },
        "id": "OEcH-XHtiRAE",
        "outputId": "559cd306-a76a-469b-e311-d94cd928f5d2"
      },
      "source": [
        "s = set([2, 3, 2, 5, 4, 2, 10])\n",
        "pd.Series(list(s))"
      ],
      "execution_count": 16,
      "outputs": [
        {
          "output_type": "execute_result",
          "data": {
            "text/plain": [
              "0     2\n",
              "1     3\n",
              "2     4\n",
              "3     5\n",
              "4    10\n",
              "dtype: int64"
            ]
          },
          "metadata": {},
          "execution_count": 16
        }
      ]
    },
    {
      "cell_type": "code",
      "metadata": {
        "id": "KQMSddadi8Ty"
      },
      "source": [
        "ser1 = pd.Series([1,2,3,4], index = ['USA', 'Germany','USSR', 'Japan'])\n",
        "ser2 = pd.Series([1,2,5,4], index = ['USA', 'Germany','Italy', 'Japan'])"
      ],
      "execution_count": 17,
      "outputs": []
    },
    {
      "cell_type": "code",
      "metadata": {
        "colab": {
          "base_uri": "https://localhost:8080/"
        },
        "id": "ZPNZV5srh3ke",
        "outputId": "242cc0cb-5708-4229-ecb5-4f885966a8b6"
      },
      "source": [
        "panser = pd.Series(data   = [121, 200, 150, 99, 145, 120, 180],\n",
        "                    index = [\"terry\", \"micheal\", \"orion\", \"jason\",\"adam\", \"thomas\", \"zack\"])\n",
        "panser"
      ],
      "execution_count": 18,
      "outputs": [
        {
          "output_type": "execute_result",
          "data": {
            "text/plain": [
              "terry      121\n",
              "micheal    200\n",
              "orion      150\n",
              "jason       99\n",
              "adam       145\n",
              "thomas     120\n",
              "zack       180\n",
              "dtype: int64"
            ]
          },
          "metadata": {},
          "execution_count": 18
        }
      ]
    },
    {
      "cell_type": "code",
      "metadata": {
        "colab": {
          "base_uri": "https://localhost:8080/"
        },
        "id": "OAGBVXe6tMWf",
        "outputId": "0b7a89ae-de32-4d88-fa01-7220c20c271b"
      },
      "source": [
        "panser.jason"
      ],
      "execution_count": 19,
      "outputs": [
        {
          "output_type": "execute_result",
          "data": {
            "text/plain": [
              "99"
            ]
          },
          "metadata": {},
          "execution_count": 19
        }
      ]
    },
    {
      "cell_type": "code",
      "metadata": {
        "colab": {
          "base_uri": "https://localhost:8080/"
        },
        "id": "uz8S9RWOtPDk",
        "outputId": "c01f75da-b52b-4da1-9b61-a82ffd297048"
      },
      "source": [
        "panser[\"jason\"]"
      ],
      "execution_count": 20,
      "outputs": [
        {
          "output_type": "execute_result",
          "data": {
            "text/plain": [
              "99"
            ]
          },
          "metadata": {},
          "execution_count": 20
        }
      ]
    },
    {
      "cell_type": "code",
      "metadata": {
        "colab": {
          "base_uri": "https://localhost:8080/"
        },
        "id": "Nn2Z-EDAtRsD",
        "outputId": "58129719-2e1a-4e8f-a299-bd0962f49bd5"
      },
      "source": [
        "panser[[\"jason\", \"adam\"]]"
      ],
      "execution_count": 21,
      "outputs": [
        {
          "output_type": "execute_result",
          "data": {
            "text/plain": [
              "jason     99\n",
              "adam     145\n",
              "dtype: int64"
            ]
          },
          "metadata": {},
          "execution_count": 21
        }
      ]
    },
    {
      "cell_type": "code",
      "metadata": {
        "colab": {
          "base_uri": "https://localhost:8080/"
        },
        "id": "aerL7R84tfk4",
        "outputId": "1e50652b-6b7f-4bb2-a234-ad1b071fce5c"
      },
      "source": [
        "panser[\"orion\": \"adam\"]"
      ],
      "execution_count": 22,
      "outputs": [
        {
          "output_type": "execute_result",
          "data": {
            "text/plain": [
              "orion    150\n",
              "jason     99\n",
              "adam     145\n",
              "dtype: int64"
            ]
          },
          "metadata": {},
          "execution_count": 22
        }
      ]
    },
    {
      "cell_type": "code",
      "metadata": {
        "colab": {
          "base_uri": "https://localhost:8080/"
        },
        "id": "XSZFn_rytt4H",
        "outputId": "9bb0e5e5-e738-4f33-e067-e26920dffa71"
      },
      "source": [
        "panser[2: 4]"
      ],
      "execution_count": 23,
      "outputs": [
        {
          "output_type": "execute_result",
          "data": {
            "text/plain": [
              "orion    150\n",
              "jason     99\n",
              "dtype: int64"
            ]
          },
          "metadata": {},
          "execution_count": 23
        }
      ]
    },
    {
      "cell_type": "code",
      "metadata": {
        "colab": {
          "base_uri": "https://localhost:8080/"
        },
        "id": "9lVjG2suuICk",
        "outputId": "e2e0b0cf-628e-4095-ca69-bfc8ea1629d6"
      },
      "source": [
        "panser.keys()"
      ],
      "execution_count": 24,
      "outputs": [
        {
          "output_type": "execute_result",
          "data": {
            "text/plain": [
              "Index(['terry', 'micheal', 'orion', 'jason', 'adam', 'thomas', 'zack'], dtype='object')"
            ]
          },
          "metadata": {},
          "execution_count": 24
        }
      ]
    },
    {
      "cell_type": "code",
      "metadata": {
        "colab": {
          "base_uri": "https://localhost:8080/"
        },
        "id": "T9s8_ar3uKnS",
        "outputId": "5df34763-4934-4fc0-c9a0-8bad93c1425b"
      },
      "source": [
        "panser.index"
      ],
      "execution_count": 25,
      "outputs": [
        {
          "output_type": "execute_result",
          "data": {
            "text/plain": [
              "Index(['terry', 'micheal', 'orion', 'jason', 'adam', 'thomas', 'zack'], dtype='object')"
            ]
          },
          "metadata": {},
          "execution_count": 25
        }
      ]
    },
    {
      "cell_type": "code",
      "metadata": {
        "colab": {
          "base_uri": "https://localhost:8080/"
        },
        "id": "Dlw5Jy-UuNqZ",
        "outputId": "cc076950-616a-4d6b-f012-fcee680aa441"
      },
      "source": [
        "panser.values"
      ],
      "execution_count": 26,
      "outputs": [
        {
          "output_type": "execute_result",
          "data": {
            "text/plain": [
              "array([121, 200, 150,  99, 145, 120, 180])"
            ]
          },
          "metadata": {},
          "execution_count": 26
        }
      ]
    },
    {
      "cell_type": "code",
      "metadata": {
        "colab": {
          "base_uri": "https://localhost:8080/"
        },
        "id": "Eg3WxaRxueh3",
        "outputId": "a83ee4d3-66e0-4fa1-c4ab-266721fbf6e8"
      },
      "source": [
        "panser.values[3]"
      ],
      "execution_count": 29,
      "outputs": [
        {
          "output_type": "execute_result",
          "data": {
            "text/plain": [
              "99"
            ]
          },
          "metadata": {},
          "execution_count": 29
        }
      ]
    },
    {
      "cell_type": "code",
      "metadata": {
        "colab": {
          "base_uri": "https://localhost:8080/"
        },
        "id": "MouxDxZguQF6",
        "outputId": "1f15f952-1398-4c47-cbf8-053179c7b655"
      },
      "source": [
        "panser.items()"
      ],
      "execution_count": 28,
      "outputs": [
        {
          "output_type": "execute_result",
          "data": {
            "text/plain": [
              "<zip at 0x7f8be2f04820>"
            ]
          },
          "metadata": {},
          "execution_count": 28
        }
      ]
    },
    {
      "cell_type": "markdown",
      "metadata": {
        "id": "nIHpnETa8uUr"
      },
      "source": [
        ""
      ]
    },
    {
      "cell_type": "markdown",
      "metadata": {
        "id": "avF0sWYi8uSr"
      },
      "source": [
        ""
      ]
    },
    {
      "cell_type": "code",
      "metadata": {
        "colab": {
          "base_uri": "https://localhost:8080/"
        },
        "id": "7gDXIoxwuW-w",
        "outputId": "529afa22-44be-449c-8586-70ffd6f4cbb4"
      },
      "source": [
        "list(panser.items())"
      ],
      "execution_count": 30,
      "outputs": [
        {
          "output_type": "execute_result",
          "data": {
            "text/plain": [
              "[('terry', 121),\n",
              " ('micheal', 200),\n",
              " ('orion', 150),\n",
              " ('jason', 99),\n",
              " ('adam', 145),\n",
              " ('thomas', 120),\n",
              " ('zack', 180)]"
            ]
          },
          "metadata": {},
          "execution_count": 30
        }
      ]
    },
    {
      "cell_type": "code",
      "metadata": {
        "colab": {
          "base_uri": "https://localhost:8080/"
        },
        "id": "BITsrz-TwZ84",
        "outputId": "4182df4a-b738-445f-d126-9f5e9368d6ce"
      },
      "source": [
        "121 in panser.values"
      ],
      "execution_count": 31,
      "outputs": [
        {
          "output_type": "execute_result",
          "data": {
            "text/plain": [
              "True"
            ]
          },
          "metadata": {},
          "execution_count": 31
        }
      ]
    },
    {
      "cell_type": "code",
      "metadata": {
        "colab": {
          "base_uri": "https://localhost:8080/"
        },
        "id": "gTDEPMtuweF4",
        "outputId": "509d1767-d971-4bbb-f54e-321cbe6e195e"
      },
      "source": [
        "panser.isin([121, 99])"
      ],
      "execution_count": 33,
      "outputs": [
        {
          "output_type": "execute_result",
          "data": {
            "text/plain": [
              "terry       True\n",
              "micheal    False\n",
              "orion      False\n",
              "jason       True\n",
              "adam       False\n",
              "thomas     False\n",
              "zack       False\n",
              "dtype: bool"
            ]
          },
          "metadata": {},
          "execution_count": 33
        }
      ]
    },
    {
      "cell_type": "code",
      "metadata": {
        "colab": {
          "base_uri": "https://localhost:8080/"
        },
        "id": "El_R1ZKzwrA8",
        "outputId": "61582762-02e0-4588-9a2e-fc8d1344b7cf"
      },
      "source": [
        "panser.jason = 190\n",
        "panser"
      ],
      "execution_count": 34,
      "outputs": [
        {
          "output_type": "execute_result",
          "data": {
            "text/plain": [
              "terry      121\n",
              "micheal    200\n",
              "orion      150\n",
              "jason      190\n",
              "adam       145\n",
              "thomas     120\n",
              "zack       180\n",
              "dtype: int64"
            ]
          },
          "metadata": {},
          "execution_count": 34
        }
      ]
    },
    {
      "cell_type": "code",
      "metadata": {
        "colab": {
          "base_uri": "https://localhost:8080/"
        },
        "id": "ti5g-Gzqwz48",
        "outputId": "9dae4ad8-0501-4eea-e19e-a818f49f6356"
      },
      "source": [
        "panser[panser >= 180] = 155\n",
        "panser"
      ],
      "execution_count": 35,
      "outputs": [
        {
          "output_type": "execute_result",
          "data": {
            "text/plain": [
              "terry      121\n",
              "micheal    155\n",
              "orion      150\n",
              "jason      155\n",
              "adam       145\n",
              "thomas     120\n",
              "zack       155\n",
              "dtype: int64"
            ]
          },
          "metadata": {},
          "execution_count": 35
        }
      ]
    }
  ]
}