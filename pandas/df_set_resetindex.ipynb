{
  "nbformat": 4,
  "nbformat_minor": 0,
  "metadata": {
    "colab": {
      "name": "df_set_resetindex.ipynb",
      "provenance": [],
      "collapsed_sections": [],
      "authorship_tag": "ABX9TyPPg9+mp+2oxJRybQ+T7Evo",
      "include_colab_link": true
    },
    "kernelspec": {
      "name": "python3",
      "display_name": "Python 3"
    },
    "language_info": {
      "name": "python"
    }
  },
  "cells": [
    {
      "cell_type": "markdown",
      "metadata": {
        "id": "view-in-github",
        "colab_type": "text"
      },
      "source": [
        "<a href=\"https://colab.research.google.com/github/mademet/DAwPY/blob/main/pandas/df_set_resetindex.ipynb\" target=\"_parent\"><img src=\"https://colab.research.google.com/assets/colab-badge.svg\" alt=\"Open In Colab\"/></a>"
      ]
    },
    {
      "cell_type": "code",
      "metadata": {
        "id": "rFfsQGus7cLs"
      },
      "source": [
        "import seaborn as sns\n",
        "import pandas as pd\n",
        "import numpy as np\n"
      ],
      "execution_count": 4,
      "outputs": []
    },
    {
      "cell_type": "code",
      "metadata": {
        "colab": {
          "base_uri": "https://localhost:8080/",
          "height": 206
        },
        "id": "l_JT4wJ08VYG",
        "outputId": "a04db65e-5815-4afc-9e03-6c2371f35e3d"
      },
      "source": [
        "np.random.seed(42)\n",
        "df3 = pd.DataFrame(np.random.randn(5,4),index=\"A B C D E\".split(), columns=\"W X Y Z\".split())\n",
        "df3\n",
        "df3.reset_index()"
      ],
      "execution_count": 14,
      "outputs": [
        {
          "output_type": "execute_result",
          "data": {
            "text/html": [
              "<div>\n",
              "<style scoped>\n",
              "    .dataframe tbody tr th:only-of-type {\n",
              "        vertical-align: middle;\n",
              "    }\n",
              "\n",
              "    .dataframe tbody tr th {\n",
              "        vertical-align: top;\n",
              "    }\n",
              "\n",
              "    .dataframe thead th {\n",
              "        text-align: right;\n",
              "    }\n",
              "</style>\n",
              "<table border=\"1\" class=\"dataframe\">\n",
              "  <thead>\n",
              "    <tr style=\"text-align: right;\">\n",
              "      <th></th>\n",
              "      <th>index</th>\n",
              "      <th>W</th>\n",
              "      <th>X</th>\n",
              "      <th>Y</th>\n",
              "      <th>Z</th>\n",
              "    </tr>\n",
              "  </thead>\n",
              "  <tbody>\n",
              "    <tr>\n",
              "      <th>0</th>\n",
              "      <td>A</td>\n",
              "      <td>0.496714</td>\n",
              "      <td>-0.138264</td>\n",
              "      <td>0.647689</td>\n",
              "      <td>1.523030</td>\n",
              "    </tr>\n",
              "    <tr>\n",
              "      <th>1</th>\n",
              "      <td>B</td>\n",
              "      <td>-0.234153</td>\n",
              "      <td>-0.234137</td>\n",
              "      <td>1.579213</td>\n",
              "      <td>0.767435</td>\n",
              "    </tr>\n",
              "    <tr>\n",
              "      <th>2</th>\n",
              "      <td>C</td>\n",
              "      <td>-0.469474</td>\n",
              "      <td>0.542560</td>\n",
              "      <td>-0.463418</td>\n",
              "      <td>-0.465730</td>\n",
              "    </tr>\n",
              "    <tr>\n",
              "      <th>3</th>\n",
              "      <td>D</td>\n",
              "      <td>0.241962</td>\n",
              "      <td>-1.913280</td>\n",
              "      <td>-1.724918</td>\n",
              "      <td>-0.562288</td>\n",
              "    </tr>\n",
              "    <tr>\n",
              "      <th>4</th>\n",
              "      <td>E</td>\n",
              "      <td>-1.012831</td>\n",
              "      <td>0.314247</td>\n",
              "      <td>-0.908024</td>\n",
              "      <td>-1.412304</td>\n",
              "    </tr>\n",
              "  </tbody>\n",
              "</table>\n",
              "</div>"
            ],
            "text/plain": [
              "  index         W         X         Y         Z\n",
              "0     A  0.496714 -0.138264  0.647689  1.523030\n",
              "1     B -0.234153 -0.234137  1.579213  0.767435\n",
              "2     C -0.469474  0.542560 -0.463418 -0.465730\n",
              "3     D  0.241962 -1.913280 -1.724918 -0.562288\n",
              "4     E -1.012831  0.314247 -0.908024 -1.412304"
            ]
          },
          "metadata": {},
          "execution_count": 14
        }
      ]
    },
    {
      "cell_type": "code",
      "metadata": {
        "colab": {
          "base_uri": "https://localhost:8080/",
          "height": 206
        },
        "id": "xt6vK8v079nk",
        "outputId": "c9d0d36d-667d-4029-b2d8-ec3e4c8cc1ec"
      },
      "source": [
        "df3.reset_index(drop = True)\n",
        "df3.reset_index(drop = True, inplace = True)\n",
        "df3"
      ],
      "execution_count": 8,
      "outputs": [
        {
          "output_type": "execute_result",
          "data": {
            "text/html": [
              "<div>\n",
              "<style scoped>\n",
              "    .dataframe tbody tr th:only-of-type {\n",
              "        vertical-align: middle;\n",
              "    }\n",
              "\n",
              "    .dataframe tbody tr th {\n",
              "        vertical-align: top;\n",
              "    }\n",
              "\n",
              "    .dataframe thead th {\n",
              "        text-align: right;\n",
              "    }\n",
              "</style>\n",
              "<table border=\"1\" class=\"dataframe\">\n",
              "  <thead>\n",
              "    <tr style=\"text-align: right;\">\n",
              "      <th></th>\n",
              "      <th>0</th>\n",
              "      <th>1</th>\n",
              "      <th>2</th>\n",
              "      <th>3</th>\n",
              "    </tr>\n",
              "  </thead>\n",
              "  <tbody>\n",
              "    <tr>\n",
              "      <th>0</th>\n",
              "      <td>0.496714</td>\n",
              "      <td>-0.138264</td>\n",
              "      <td>0.647689</td>\n",
              "      <td>1.523030</td>\n",
              "    </tr>\n",
              "    <tr>\n",
              "      <th>1</th>\n",
              "      <td>-0.234153</td>\n",
              "      <td>-0.234137</td>\n",
              "      <td>1.579213</td>\n",
              "      <td>0.767435</td>\n",
              "    </tr>\n",
              "    <tr>\n",
              "      <th>2</th>\n",
              "      <td>-0.469474</td>\n",
              "      <td>0.542560</td>\n",
              "      <td>-0.463418</td>\n",
              "      <td>-0.465730</td>\n",
              "    </tr>\n",
              "    <tr>\n",
              "      <th>3</th>\n",
              "      <td>0.241962</td>\n",
              "      <td>-1.913280</td>\n",
              "      <td>-1.724918</td>\n",
              "      <td>-0.562288</td>\n",
              "    </tr>\n",
              "    <tr>\n",
              "      <th>4</th>\n",
              "      <td>-1.012831</td>\n",
              "      <td>0.314247</td>\n",
              "      <td>-0.908024</td>\n",
              "      <td>-1.412304</td>\n",
              "    </tr>\n",
              "  </tbody>\n",
              "</table>\n",
              "</div>"
            ],
            "text/plain": [
              "          0         1         2         3\n",
              "0  0.496714 -0.138264  0.647689  1.523030\n",
              "1 -0.234153 -0.234137  1.579213  0.767435\n",
              "2 -0.469474  0.542560 -0.463418 -0.465730\n",
              "3  0.241962 -1.913280 -1.724918 -0.562288\n",
              "4 -1.012831  0.314247 -0.908024 -1.412304"
            ]
          },
          "metadata": {},
          "execution_count": 8
        }
      ]
    },
    {
      "cell_type": "code",
      "metadata": {
        "colab": {
          "base_uri": "https://localhost:8080/"
        },
        "id": "gLIaddGp8ENt",
        "outputId": "754be6da-159a-42a3-d3fa-8b89c5826fa2"
      },
      "source": [
        "new_index = np.arange(1000, 1005)\n",
        "new_index"
      ],
      "execution_count": 9,
      "outputs": [
        {
          "output_type": "execute_result",
          "data": {
            "text/plain": [
              "array([1000, 1001, 1002, 1003, 1004])"
            ]
          },
          "metadata": {},
          "execution_count": 9
        }
      ]
    },
    {
      "cell_type": "code",
      "metadata": {
        "colab": {
          "base_uri": "https://localhost:8080/",
          "height": 206
        },
        "id": "LmpUWGad8GEI",
        "outputId": "54356463-f7a9-4cc7-e802-c72131f539ba"
      },
      "source": [
        "df3[0] = new_index\n",
        "df3"
      ],
      "execution_count": 15,
      "outputs": [
        {
          "output_type": "execute_result",
          "data": {
            "text/html": [
              "<div>\n",
              "<style scoped>\n",
              "    .dataframe tbody tr th:only-of-type {\n",
              "        vertical-align: middle;\n",
              "    }\n",
              "\n",
              "    .dataframe tbody tr th {\n",
              "        vertical-align: top;\n",
              "    }\n",
              "\n",
              "    .dataframe thead th {\n",
              "        text-align: right;\n",
              "    }\n",
              "</style>\n",
              "<table border=\"1\" class=\"dataframe\">\n",
              "  <thead>\n",
              "    <tr style=\"text-align: right;\">\n",
              "      <th></th>\n",
              "      <th>W</th>\n",
              "      <th>X</th>\n",
              "      <th>Y</th>\n",
              "      <th>Z</th>\n",
              "      <th>0</th>\n",
              "    </tr>\n",
              "  </thead>\n",
              "  <tbody>\n",
              "    <tr>\n",
              "      <th>A</th>\n",
              "      <td>0.496714</td>\n",
              "      <td>-0.138264</td>\n",
              "      <td>0.647689</td>\n",
              "      <td>1.523030</td>\n",
              "      <td>1000</td>\n",
              "    </tr>\n",
              "    <tr>\n",
              "      <th>B</th>\n",
              "      <td>-0.234153</td>\n",
              "      <td>-0.234137</td>\n",
              "      <td>1.579213</td>\n",
              "      <td>0.767435</td>\n",
              "      <td>1001</td>\n",
              "    </tr>\n",
              "    <tr>\n",
              "      <th>C</th>\n",
              "      <td>-0.469474</td>\n",
              "      <td>0.542560</td>\n",
              "      <td>-0.463418</td>\n",
              "      <td>-0.465730</td>\n",
              "      <td>1002</td>\n",
              "    </tr>\n",
              "    <tr>\n",
              "      <th>D</th>\n",
              "      <td>0.241962</td>\n",
              "      <td>-1.913280</td>\n",
              "      <td>-1.724918</td>\n",
              "      <td>-0.562288</td>\n",
              "      <td>1003</td>\n",
              "    </tr>\n",
              "    <tr>\n",
              "      <th>E</th>\n",
              "      <td>-1.012831</td>\n",
              "      <td>0.314247</td>\n",
              "      <td>-0.908024</td>\n",
              "      <td>-1.412304</td>\n",
              "      <td>1004</td>\n",
              "    </tr>\n",
              "  </tbody>\n",
              "</table>\n",
              "</div>"
            ],
            "text/plain": [
              "          W         X         Y         Z     0\n",
              "A  0.496714 -0.138264  0.647689  1.523030  1000\n",
              "B -0.234153 -0.234137  1.579213  0.767435  1001\n",
              "C -0.469474  0.542560 -0.463418 -0.465730  1002\n",
              "D  0.241962 -1.913280 -1.724918 -0.562288  1003\n",
              "E -1.012831  0.314247 -0.908024 -1.412304  1004"
            ]
          },
          "metadata": {},
          "execution_count": 15
        }
      ]
    },
    {
      "cell_type": "code",
      "metadata": {
        "colab": {
          "base_uri": "https://localhost:8080/",
          "height": 237
        },
        "id": "5dOzRBLe8IQ_",
        "outputId": "7dbaca48-45b2-435b-a984-7d9cd74d0095"
      },
      "source": [
        "df3.set_index(0)"
      ],
      "execution_count": 17,
      "outputs": [
        {
          "output_type": "execute_result",
          "data": {
            "text/html": [
              "<div>\n",
              "<style scoped>\n",
              "    .dataframe tbody tr th:only-of-type {\n",
              "        vertical-align: middle;\n",
              "    }\n",
              "\n",
              "    .dataframe tbody tr th {\n",
              "        vertical-align: top;\n",
              "    }\n",
              "\n",
              "    .dataframe thead th {\n",
              "        text-align: right;\n",
              "    }\n",
              "</style>\n",
              "<table border=\"1\" class=\"dataframe\">\n",
              "  <thead>\n",
              "    <tr style=\"text-align: right;\">\n",
              "      <th></th>\n",
              "      <th>W</th>\n",
              "      <th>X</th>\n",
              "      <th>Y</th>\n",
              "      <th>Z</th>\n",
              "    </tr>\n",
              "    <tr>\n",
              "      <th>0</th>\n",
              "      <th></th>\n",
              "      <th></th>\n",
              "      <th></th>\n",
              "      <th></th>\n",
              "    </tr>\n",
              "  </thead>\n",
              "  <tbody>\n",
              "    <tr>\n",
              "      <th>1000</th>\n",
              "      <td>0.496714</td>\n",
              "      <td>-0.138264</td>\n",
              "      <td>0.647689</td>\n",
              "      <td>1.523030</td>\n",
              "    </tr>\n",
              "    <tr>\n",
              "      <th>1001</th>\n",
              "      <td>-0.234153</td>\n",
              "      <td>-0.234137</td>\n",
              "      <td>1.579213</td>\n",
              "      <td>0.767435</td>\n",
              "    </tr>\n",
              "    <tr>\n",
              "      <th>1002</th>\n",
              "      <td>-0.469474</td>\n",
              "      <td>0.542560</td>\n",
              "      <td>-0.463418</td>\n",
              "      <td>-0.465730</td>\n",
              "    </tr>\n",
              "    <tr>\n",
              "      <th>1003</th>\n",
              "      <td>0.241962</td>\n",
              "      <td>-1.913280</td>\n",
              "      <td>-1.724918</td>\n",
              "      <td>-0.562288</td>\n",
              "    </tr>\n",
              "    <tr>\n",
              "      <th>1004</th>\n",
              "      <td>-1.012831</td>\n",
              "      <td>0.314247</td>\n",
              "      <td>-0.908024</td>\n",
              "      <td>-1.412304</td>\n",
              "    </tr>\n",
              "  </tbody>\n",
              "</table>\n",
              "</div>"
            ],
            "text/plain": [
              "             W         X         Y         Z\n",
              "0                                           \n",
              "1000  0.496714 -0.138264  0.647689  1.523030\n",
              "1001 -0.234153 -0.234137  1.579213  0.767435\n",
              "1002 -0.469474  0.542560 -0.463418 -0.465730\n",
              "1003  0.241962 -1.913280 -1.724918 -0.562288\n",
              "1004 -1.012831  0.314247 -0.908024 -1.412304"
            ]
          },
          "metadata": {},
          "execution_count": 17
        }
      ]
    }
  ]
}