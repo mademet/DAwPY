{
  "nbformat": 4,
  "nbformat_minor": 0,
  "metadata": {
    "colab": {
      "name": "nparray_manipulate.ipynb",
      "provenance": [],
      "collapsed_sections": [],
      "authorship_tag": "ABX9TyNFJblsM2KtIk/bDrdRXMZO",
      "include_colab_link": true
    },
    "kernelspec": {
      "name": "python3",
      "display_name": "Python 3"
    },
    "language_info": {
      "name": "python"
    }
  },
  "cells": [
    {
      "cell_type": "markdown",
      "metadata": {
        "id": "view-in-github",
        "colab_type": "text"
      },
      "source": [
        "<a href=\"https://colab.research.google.com/github/mademet/DAwPY/blob/main/numpy/nparray_manipulate.ipynb\" target=\"_parent\"><img src=\"https://colab.research.google.com/assets/colab-badge.svg\" alt=\"Open In Colab\"/></a>"
      ]
    },
    {
      "cell_type": "code",
      "metadata": {
        "id": "x_ACDmrdNb3J"
      },
      "source": [
        "import numpy as np\n",
        "import pandas as pd\n",
        "import matplotlib.pyplot as plt\n",
        "import seaborn as sns\n",
        "%matplotlib inline"
      ],
      "execution_count": 1,
      "outputs": []
    },
    {
      "cell_type": "code",
      "metadata": {
        "colab": {
          "base_uri": "https://localhost:8080/"
        },
        "id": "J4_mvpmCRXF-",
        "outputId": "082d5028-c197-4b27-d6a3-c95c26e8bd15"
      },
      "source": [
        "age = np.random.randint(25, 45, 50)\n",
        "age"
      ],
      "execution_count": 6,
      "outputs": [
        {
          "output_type": "execute_result",
          "data": {
            "text/plain": [
              "array([35, 35, 37, 42, 30, 43, 43, 29, 38, 27, 28, 33, 25, 28, 41, 34, 26,\n",
              "       33, 31, 36, 44, 39, 40, 26, 29, 35, 34, 29, 28, 28, 28, 43, 27, 40,\n",
              "       40, 39, 32, 36, 42, 27, 25, 38, 35, 40, 39, 25, 32, 42, 35, 43])"
            ]
          },
          "metadata": {},
          "execution_count": 6
        }
      ]
    },
    {
      "cell_type": "code",
      "metadata": {
        "id": "Se-RLQThTuRb"
      },
      "source": [
        "age = np.array([-1, 35, 37, 42, 30, 43, 43, 29, 38, 27, 28, 33, 25, 28, 41, 34, 26,\n",
        "       33, 31, 36, 44, 39, 40, 26, 29, 35, 34, 29, 28, 28, 28, 43, 27, 40,\n",
        "       40, 39, 32, 36, 42, 27, 25, 38, 35, 40, 39, 25, 32, 99, 35, 43])"
      ],
      "execution_count": 8,
      "outputs": []
    },
    {
      "cell_type": "code",
      "metadata": {
        "colab": {
          "base_uri": "https://localhost:8080/",
          "height": 264
        },
        "id": "9uGqO308TeNc",
        "outputId": "29957c19-f1ac-44be-ee64-d28676c1f60f"
      },
      "source": [
        "plt.hist(age, bins= 40);"
      ],
      "execution_count": 10,
      "outputs": [
        {
          "output_type": "display_data",
          "data": {
            "image/png": "[encoded data removed]",
            "text/plain": [
              "<Figure size 432x288 with 1 Axes>"
            ]
          },
          "metadata": {
            "needs_background": "light"
          }
        }
      ]
    },
    {
      "cell_type": "code",
      "metadata": {
        "colab": {
          "base_uri": "https://localhost:8080/"
        },
        "id": "vcDcfKbIT4xO",
        "outputId": "1a2bc39a-0963-4785-ddbe-93de7d3a3def"
      },
      "source": [
        "age[age < 20]"
      ],
      "execution_count": 11,
      "outputs": [
        {
          "output_type": "execute_result",
          "data": {
            "text/plain": [
              "array([-1])"
            ]
          },
          "metadata": {},
          "execution_count": 11
        }
      ]
    },
    {
      "cell_type": "code",
      "metadata": {
        "colab": {
          "base_uri": "https://localhost:8080/"
        },
        "id": "ZCSoLrSRUBsJ",
        "outputId": "a53d3e4c-4f4e-4ff1-a457-6eb2e87e8209"
      },
      "source": [
        "age[age > 50]"
      ],
      "execution_count": 12,
      "outputs": [
        {
          "output_type": "execute_result",
          "data": {
            "text/plain": [
              "array([99])"
            ]
          },
          "metadata": {},
          "execution_count": 12
        }
      ]
    },
    {
      "cell_type": "code",
      "metadata": {
        "id": "exz2SHxLTjp7"
      },
      "source": [
        "age[age < 20] = age.mean()\n",
        "age[age > 50] = age.mean()"
      ],
      "execution_count": 14,
      "outputs": []
    },
    {
      "cell_type": "code",
      "metadata": {
        "colab": {
          "base_uri": "https://localhost:8080/",
          "height": 264
        },
        "id": "vOBKNSgNUV9E",
        "outputId": "ab72a93d-2a6a-4fd1-e0f9-212840a9e83b"
      },
      "source": [
        " plt.hist(age, bins= 40);"
      ],
      "execution_count": 15,
      "outputs": [
        {
          "output_type": "display_data",
          "data": {
            "image/png": "[encoded data removed]",
            "text/plain": [
              "<Figure size 432x288 with 1 Axes>"
            ]
          },
          "metadata": {
            "needs_background": "light"
          }
        }
      ]
    },
    {
      "cell_type": "code",
      "metadata": {
        "colab": {
          "base_uri": "https://localhost:8080/"
        },
        "id": "NYQGP4stVKnm",
        "outputId": "2c8dae39-4c67-4277-fca3-a97cc1ac5dce"
      },
      "source": [
        "sorted([5, 8, 1, 10])"
      ],
      "execution_count": 16,
      "outputs": [
        {
          "output_type": "execute_result",
          "data": {
            "text/plain": [
              "[1, 5, 8, 10]"
            ]
          },
          "metadata": {},
          "execution_count": 16
        }
      ]
    },
    {
      "cell_type": "code",
      "metadata": {
        "colab": {
          "base_uri": "https://localhost:8080/"
        },
        "id": "NwOkB8qpVLdY",
        "outputId": "a9f6570b-fd0d-44ca-e40e-954617341006"
      },
      "source": [
        "age.sort()\n",
        "age"
      ],
      "execution_count": 18,
      "outputs": [
        {
          "output_type": "execute_result",
          "data": {
            "text/plain": [
              "array([25, 25, 25, 26, 26, 27, 27, 27, 28, 28, 28, 28, 28, 29, 29, 29, 30,\n",
              "       31, 32, 32, 33, 33, 34, 34, 34, 35, 35, 35, 35, 35, 36, 36, 37, 38,\n",
              "       38, 39, 39, 39, 40, 40, 40, 40, 41, 42, 42, 43, 43, 43, 43, 44])"
            ]
          },
          "metadata": {},
          "execution_count": 18
        }
      ]
    },
    {
      "cell_type": "code",
      "metadata": {
        "colab": {
          "base_uri": "https://localhost:8080/"
        },
        "id": "2QrmVxkmVceF",
        "outputId": "eb2e1630-3b59-4dcb-cb23-4a8f68dd0db2"
      },
      "source": [
        "age[::-1]"
      ],
      "execution_count": 19,
      "outputs": [
        {
          "output_type": "execute_result",
          "data": {
            "text/plain": [
              "array([44, 43, 43, 43, 43, 42, 42, 41, 40, 40, 40, 40, 39, 39, 39, 38, 38,\n",
              "       37, 36, 36, 35, 35, 35, 35, 35, 34, 34, 34, 33, 33, 32, 32, 31, 30,\n",
              "       29, 29, 29, 28, 28, 28, 28, 28, 27, 27, 27, 26, 26, 25, 25, 25])"
            ]
          },
          "metadata": {},
          "execution_count": 19
        }
      ]
    },
    {
      "cell_type": "code",
      "metadata": {
        "id": "lfWcX0ODVLqx"
      },
      "source": [
        ""
      ],
      "execution_count": null,
      "outputs": []
    },
    {
      "cell_type": "code",
      "metadata": {
        "id": "WLWyUOiXVL4p"
      },
      "source": [
        ""
      ],
      "execution_count": null,
      "outputs": []
    },
    {
      "cell_type": "code",
      "metadata": {
        "id": "KVnySP4cVMF_"
      },
      "source": [
        ""
      ],
      "execution_count": null,
      "outputs": []
    }
  ]
}