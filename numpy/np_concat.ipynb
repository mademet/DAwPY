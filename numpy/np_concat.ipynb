{
  "nbformat": 4,
  "nbformat_minor": 0,
  "metadata": {
    "colab": {
      "name": "np_concat.ipynb",
      "provenance": [],
      "collapsed_sections": [],
      "authorship_tag": "ABX9TyN3lhhu6FLoFQMYbtSadDRJ",
      "include_colab_link": true
    },
    "kernelspec": {
      "name": "python3",
      "display_name": "Python 3"
    },
    "language_info": {
      "name": "python"
    }
  },
  "cells": [
    {
      "cell_type": "markdown",
      "metadata": {
        "id": "view-in-github",
        "colab_type": "text"
      },
      "source": [
        "<a href=\"https://colab.research.google.com/github/mademet/DAwPY/blob/main/numpy/np_concat.ipynb\" target=\"_parent\"><img src=\"https://colab.research.google.com/assets/colab-badge.svg\" alt=\"Open In Colab\"/></a>"
      ]
    },
    {
      "cell_type": "code",
      "metadata": {
        "id": "S8C8gNVmN8Vl"
      },
      "source": [
        "import numpy as np"
      ],
      "execution_count": 1,
      "outputs": []
    },
    {
      "cell_type": "code",
      "metadata": {
        "id": "cbe7_koQQvKI"
      },
      "source": [
        ""
      ],
      "execution_count": null,
      "outputs": []
    },
    {
      "cell_type": "code",
      "metadata": {
        "colab": {
          "base_uri": "https://localhost:8080/"
        },
        "id": "QuIjGcfFDbmW",
        "outputId": "43c847ac-48c0-45a3-e88e-7b461e734df4"
      },
      "source": [
        "ones = np.ones((4, 4), dtype= \"int\")\n",
        "ones"
      ],
      "execution_count": null,
      "outputs": [
        {
          "output_type": "execute_result",
          "data": {
            "text/plain": [
              "array([[1, 1, 1, 1],\n",
              "       [1, 1, 1, 1],\n",
              "       [1, 1, 1, 1],\n",
              "       [1, 1, 1, 1]])"
            ]
          },
          "metadata": {},
          "execution_count": 33
        }
      ]
    },
    {
      "cell_type": "code",
      "metadata": {
        "colab": {
          "base_uri": "https://localhost:8080/"
        },
        "id": "JeGjsmVADluw",
        "outputId": "dd0667a0-f70b-4b73-ebcb-ed33336db204"
      },
      "source": [
        "rand = np.random.randint(2, 10, size = (4, 4))\n",
        "rand"
      ],
      "execution_count": null,
      "outputs": [
        {
          "output_type": "execute_result",
          "data": {
            "text/plain": [
              "array([[6, 8, 8, 9],\n",
              "       [5, 2, 8, 5],\n",
              "       [8, 2, 3, 2],\n",
              "       [6, 9, 5, 7]])"
            ]
          },
          "metadata": {},
          "execution_count": 32
        }
      ]
    },
    {
      "cell_type": "code",
      "metadata": {
        "colab": {
          "base_uri": "https://localhost:8080/"
        },
        "id": "8bdgxNA-Dv9H",
        "outputId": "af895982-7dc5-46cf-f81c-16f6222a3884"
      },
      "source": [
        "concat = np.concatenate([ones, rand])\n",
        "concat"
      ],
      "execution_count": null,
      "outputs": [
        {
          "output_type": "execute_result",
          "data": {
            "text/plain": [
              "array([[1, 1, 1, 1],\n",
              "       [1, 1, 1, 1],\n",
              "       [1, 1, 1, 1],\n",
              "       [1, 1, 1, 1],\n",
              "       [6, 8, 8, 9],\n",
              "       [5, 2, 8, 5],\n",
              "       [8, 2, 3, 2],\n",
              "       [6, 9, 5, 7]])"
            ]
          },
          "metadata": {},
          "execution_count": 39
        }
      ]
    },
    {
      "cell_type": "code",
      "metadata": {
        "colab": {
          "base_uri": "https://localhost:8080/"
        },
        "id": "44ZN0PZTEKv5",
        "outputId": "f7e8ac47-5382-4e6d-b68c-dd9c936d4c15"
      },
      "source": [
        "concat = np.concatenate([ones, rand], axis = 1)\n",
        "concat"
      ],
      "execution_count": null,
      "outputs": [
        {
          "output_type": "execute_result",
          "data": {
            "text/plain": [
              "array([[1, 1, 1, 1, 6, 8, 8, 9],\n",
              "       [1, 1, 1, 1, 5, 2, 8, 5],\n",
              "       [1, 1, 1, 1, 8, 2, 3, 2],\n",
              "       [1, 1, 1, 1, 6, 9, 5, 7]])"
            ]
          },
          "metadata": {},
          "execution_count": 40
        }
      ]
    },
    {
      "cell_type": "code",
      "metadata": {
        "colab": {
          "base_uri": "https://localhost:8080/"
        },
        "id": "0eYakpuxErdi",
        "outputId": "d74579b4-d499-4a36-e7d3-3a82fe67b565"
      },
      "source": [
        "np.split(concat, 4)"
      ],
      "execution_count": null,
      "outputs": [
        {
          "output_type": "execute_result",
          "data": {
            "text/plain": [
              "[array([[1, 1, 1, 1, 6, 8, 8, 9]]),\n",
              " array([[1, 1, 1, 1, 5, 2, 8, 5]]),\n",
              " array([[1, 1, 1, 1, 8, 2, 3, 2]]),\n",
              " array([[1, 1, 1, 1, 6, 9, 5, 7]])]"
            ]
          },
          "metadata": {},
          "execution_count": 41
        }
      ]
    },
    {
      "cell_type": "code",
      "metadata": {
        "colab": {
          "base_uri": "https://localhost:8080/"
        },
        "id": "9cGLerdTF19M",
        "outputId": "a44ad500-9267-4300-95f3-c95ff6330f3e"
      },
      "source": [
        "c2 = np.split(concat, [1, 3], axis = 1)\n",
        "for i in c2:\n",
        "    print(i)  # 0 to 1, 1 to 3, 3 to end"
      ],
      "execution_count": null,
      "outputs": [
        {
          "output_type": "stream",
          "name": "stdout",
          "text": [
            "[[1]\n",
            " [1]\n",
            " [1]\n",
            " [1]]\n",
            "[[1 1]\n",
            " [1 1]\n",
            " [1 1]\n",
            " [1 1]]\n",
            "[[1 6 8 8 9]\n",
            " [1 5 2 8 5]\n",
            " [1 8 2 3 2]\n",
            " [1 6 9 5 7]]\n"
          ]
        }
      ]
    }
  ]
}